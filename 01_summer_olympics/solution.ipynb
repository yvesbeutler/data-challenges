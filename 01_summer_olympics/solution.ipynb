{
 "cells": [
  {
   "cell_type": "markdown",
   "source": [
    "# Summer Olympics\r\n",
    "\r\n",
    "## Scenario\r\n",
    "Just recently the Summer Olympics concluded and all the newspapers were printing the medal rankings. There seem to be different methods on how to rank the table, used in different countries. Apparently there is some room for interpretation.\r\n",
    "\r\n",
    "## Tasks\r\n",
    "The sporting associations of the *** countries created a task force in order to investigate if the used medal ranking reflects their achievements. They supplied us with the data they have found on the countries and their main concerns are the following:\r\n",
    "\r\n",
    "- How did the *** countries perform and who has room for improvement and why?\r\n",
    "- Are the official rankings \"fair\" or do you think that e.g. the top 5 achievers should look different?\r\n",
    "\r\n",
    "The questions are being asked as ultimately they are looking who is the candidate within the group to go and learn from.\r\n",
    "\r\n",
    "### How to\r\n",
    "Use plots, tables, scoring functions, feature engineering - anything you think helps the task force. Tackle it in teams or alone in order to respond to the two questions.\r\n",
    "\r\n",
    "Why? As often in client projects, there is not one correct answer. But there may be ways to show our clients if they did well or have room for improvements. In the end we want to talk about the strategies that were employed. What libraries did we use? How to best visualize/communicate our suggested solution?\r\n",
    "\r\n",
    "If you have questions, just ask and hopefully you may have some fun!\r\n",
    "\r\n",
    "---"
   ],
   "metadata": {}
  },
  {
   "cell_type": "code",
   "execution_count": 180,
   "source": [
    "import pandas as pd\r\n",
    "\r\n",
    "df_countries = pd.read_csv('data/countries_data.tsv', sep='\\t', header=0)\r\n",
    "df_delegations = pd.read_csv('data/delegations_data.tsv', sep='\\t', header=0)\r\n",
    "df_medals = pd.read_csv('data/tokio2021_medal_counts.tsv', sep='\\t', header=0)\r\n",
    "\r\n",
    "# Data cleansing\r\n",
    "df_medals['country'] = df_medals['country'].str.replace('The ', '')"
   ],
   "outputs": [],
   "metadata": {}
  },
  {
   "cell_type": "code",
   "execution_count": 181,
   "source": [
    "# Join datasets\r\n",
    "df = df_medals.merge(df_delegations, on='country', how='left')\r\n",
    "# print(f'Length after first merge: {len(df)}')\r\n",
    "\r\n",
    "df = df.merge(df_countries, on='country', how='left')\r\n",
    "# print(f'Length after second merge: {len(df)}')"
   ],
   "outputs": [],
   "metadata": {}
  },
  {
   "cell_type": "markdown",
   "source": [
    "### How did ERNI perform?\r\n",
    "Let's have a look at Switzerland, Germany, Spain, Romania, Slovakia, Philippines and Singapore"
   ],
   "metadata": {}
  },
  {
   "cell_type": "code",
   "execution_count": null,
   "source": [
    "ernians = ['Switzerland', 'Germany', 'Spain', 'Romania', 'Slovakia', 'Philippines', 'Singapore']\r\n",
    "df_erni = df[df.country.isin(ernians)]\r\n",
    "\r\n",
    "# Assumption 1: all medalists are winners\r\n",
    "df_erni['total_medals'] = df_erni[['gold', 'silver', 'bronze']].sum(axis=1)\r\n",
    "\r\n",
    "# Assumption 2: people in wealthier countries have more spare time, therefore more time for sports activities\r\n",
    "df_erni['GDP_K_per_capita'] = df_erni['GDP_M_USD'] / df_erni['population'] * 1000\r\n",
    "\r\n",
    "# Assumption 3: top athletes are only once in a million, therefore larger countries benefit\r\n",
    "df_erni['athletes_ratio'] = df_erni.athletes / df_erni.population\r\n",
    "\r\n",
    "df_erni.head()"
   ],
   "outputs": [],
   "metadata": {}
  },
  {
   "cell_type": "code",
   "execution_count": null,
   "source": [],
   "outputs": [],
   "metadata": {}
  }
 ],
 "metadata": {
  "orig_nbformat": 4,
  "language_info": {
   "name": "python",
   "version": "3.8.11",
   "mimetype": "text/x-python",
   "codemirror_mode": {
    "name": "ipython",
    "version": 3
   },
   "pygments_lexer": "ipython3",
   "nbconvert_exporter": "python",
   "file_extension": ".py"
  },
  "kernelspec": {
   "name": "python3",
   "display_name": "Python 3.8.11 64-bit ('casual': conda)"
  },
  "interpreter": {
   "hash": "bd3cadad69241cfe93e7d9f5ca1fb41c3a56323199e974441d0028439d57244d"
  }
 },
 "nbformat": 4,
 "nbformat_minor": 2
}